{
 "cells": [
  {
   "cell_type": "code",
   "execution_count": 2,
   "id": "09955787",
   "metadata": {},
   "outputs": [],
   "source": [
    "from selenium import webdriver\n",
    "from webdriver_manager.chrome import ChromeDriverManager\n",
    "from bs4 import BeautifulSoup\n",
    "import requests\n",
    "\n",
    "url = \"https://data.wprdc.org/dataset/healthyride-trip-data\"\n",
    "\n",
    "driver = webdriver.Chrome(ChromeDriverManager().install())\n",
    "driver.get(url)"
   ]
  },
  {
   "cell_type": "code",
   "execution_count": 3,
   "id": "1813d86e",
   "metadata": {},
   "outputs": [],
   "source": [
    "html = driver.page_source\n",
    "driver.close()"
   ]
  },
  {
   "cell_type": "code",
   "execution_count": 4,
   "id": "6d1acaf3",
   "metadata": {},
   "outputs": [],
   "source": [
    "soup = BeautifulSoup(html)"
   ]
  },
  {
   "cell_type": "code",
   "execution_count": 5,
   "id": "f0837c2a",
   "metadata": {},
   "outputs": [
    {
     "data": {
      "text/plain": [
       "30"
      ]
     },
     "execution_count": 5,
     "metadata": {},
     "output_type": "execute_result"
    }
   ],
   "source": [
    "start_of_url = \"https://data.wprdc.org/dataset/\"\n",
    "\n",
    "all_download_links = [link[\"href\"] for link in soup.find_all(\"a\") if link[\"href\"].startswith(start_of_url)]\n",
    "len(all_download_links)  # should be 30"
   ]
  },
  {
   "cell_type": "code",
   "execution_count": null,
   "id": "4d6c3e73",
   "metadata": {},
   "outputs": [
    {
     "name": "stdout",
     "output_type": "stream",
     "text": [
      "2022-q2.csv\n",
      "q1-2022.csv\n",
      "healthy-ride-rentals-2021-q4.csv\n",
      "healthy-ride-rentals-2021-q3.csv\n",
      "healthy-ride-rentals-2021-q2.csv\n",
      "healthy-ride-rentals-2021-q1.csv\n",
      "healthy-ride-rentals-q4-2020.csv\n",
      "healthy-ride-rentals-q3-2020.csv\n",
      "healthy-ride-rentals-q2-2020.csv\n",
      "healthy-ride-rentals-2020-q1.csv\n",
      "healthy-ride-rentals-2019-q4.csv\n",
      "healthy-ride-rentals-2019-q3.csv\n",
      "healthy-ride-rentals-2019-q2.csv\n",
      "healthy-ride-rentals-2019-q1.csv\n",
      "healthyride-rentals-2018-q4.csv\n",
      "healthy-ride-rentals-2018-q3.csv\n",
      "healthy-ride-rentals-2018-q2.csv\n",
      "healthy-ride-rentals-2018-q1.csv\n",
      "healthy-ride-rentals-2017-q4.csv\n",
      "healthy-ride-rentals-2017-q3.csv\n",
      "healthy-ride-rentals-2017-q2.csv\n",
      "healthy-ride-rentals-2017-q1.csv\n",
      "healthyride-rentals-2016-q4.csv\n",
      "healthyride-rentals-2016-q3.csv\n",
      "healthyride-rentals-2016-q2.csv\n"
     ]
    }
   ],
   "source": [
    "for link in all_download_links:\n",
    "    response = requests.get(link)\n",
    "    filename = link.split(\"/\")[-1]\n",
    "    print(filename)\n",
    "    with open(filename, \"wb\") as f:\n",
    "        f.write(response.content)\n",
    "        f.close()"
   ]
  },
  {
   "cell_type": "code",
   "execution_count": null,
   "id": "bf9c794e",
   "metadata": {},
   "outputs": [],
   "source": []
  }
 ],
 "metadata": {
  "kernelspec": {
   "display_name": "Python 3 (ipykernel)",
   "language": "python",
   "name": "python3"
  },
  "language_info": {
   "codemirror_mode": {
    "name": "ipython",
    "version": 3
   },
   "file_extension": ".py",
   "mimetype": "text/x-python",
   "name": "python",
   "nbconvert_exporter": "python",
   "pygments_lexer": "ipython3",
   "version": "3.11.5"
  }
 },
 "nbformat": 4,
 "nbformat_minor": 5
}
