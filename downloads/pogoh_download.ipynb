{
 "cells": [
  {
   "cell_type": "code",
   "execution_count": 7,
   "id": "831f099d",
   "metadata": {},
   "outputs": [],
   "source": [
    "from selenium import webdriver\n",
    "from webdriver_manager.chrome import ChromeDriverManager\n",
    "from bs4 import BeautifulSoup\n",
    "import requests\n",
    "\n",
    "url = \"https://data.wprdc.org/dataset/pogoh-trip-data\"\n",
    "\n",
    "driver = webdriver.Chrome(ChromeDriverManager().install())\n",
    "driver.get(url)"
   ]
  },
  {
   "cell_type": "code",
   "execution_count": 8,
   "id": "705c06f2",
   "metadata": {},
   "outputs": [],
   "source": [
    "html = driver.page_source\n",
    "driver.close()"
   ]
  },
  {
   "cell_type": "code",
   "execution_count": 9,
   "id": "7972256c",
   "metadata": {},
   "outputs": [],
   "source": [
    "soup = BeautifulSoup(html)"
   ]
  },
  {
   "cell_type": "code",
   "execution_count": 10,
   "id": "25807d09",
   "metadata": {},
   "outputs": [
    {
     "data": {
      "text/plain": [
       "17"
      ]
     },
     "execution_count": 10,
     "metadata": {},
     "output_type": "execute_result"
    }
   ],
   "source": [
    "start_of_url = \"https://data.wprdc.org/dataset/\"\n",
    "\n",
    "all_download_links = [link[\"href\"] for link in soup.find_all(\"a\") if link[\"href\"].startswith(start_of_url)]\n",
    "len(all_download_links)  # should be 17"
   ]
  },
  {
   "cell_type": "code",
   "execution_count": 23,
   "id": "4432e182",
   "metadata": {},
   "outputs": [
    {
     "name": "stdout",
     "output_type": "stream",
     "text": [
      "september-2023.xlsx\n",
      "august-2023.xlsx\n",
      "july-2023.xlsx\n",
      "june-2023.xlsx\n",
      "may-2023.xlsx\n",
      "pogho-trip-data-2023-04.csv\n",
      "march-2023.xlsx\n",
      "february-2023.xlsx\n",
      "january-2023.xlsx\n",
      "december-2022.xlsx\n",
      "november-2022.xlsx\n",
      "october-2022.xlsx\n",
      "september-2022.xlsx\n",
      "august-2022.xlsx\n",
      "july-2022.xlsx\n",
      "june-2022.xlsx\n",
      "may-2022.xlsx\n"
     ]
    }
   ],
   "source": [
    "for link in all_download_links:\n",
    "    response = requests.get(link)\n",
    "    filename = link.split(\"/\")[-1]\n",
    "    print(filename)\n",
    "    with open(filename, \"wb\") as f:\n",
    "        f.write(response.content)\n",
    "        f.close()"
   ]
  }
 ],
 "metadata": {
  "kernelspec": {
   "display_name": "Python 3 (ipykernel)",
   "language": "python",
   "name": "python3"
  },
  "language_info": {
   "codemirror_mode": {
    "name": "ipython",
    "version": 3
   },
   "file_extension": ".py",
   "mimetype": "text/x-python",
   "name": "python",
   "nbconvert_exporter": "python",
   "pygments_lexer": "ipython3",
   "version": "3.11.5"
  }
 },
 "nbformat": 4,
 "nbformat_minor": 5
}
